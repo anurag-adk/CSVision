{
  "cells": [
    {
      "cell_type": "markdown",
      "metadata": {},
      "source": [
        "<a href=\"https://colab.research.google.com/github/anurag-adk/CSVision/blob/main/CSVision.ipynb\" target=\"_parent\"><img src=\"https://colab.research.google.com/assets/colab-badge.svg\" alt=\"Open In Colab\"/></a>"
      ]
    },
    {
      "cell_type": "markdown",
      "metadata": {
        "id": "JfNsxBm0RCEQ"
      },
      "source": [
        "# CSVision👀 - An AI Agent for Company Info Extraction\n",
        "\n",
        "## Project Overview\n",
        " CSVision is intelligent agent that extracts company information from textual paragraphs using LangChain's LCEL (LangChain Expression Language) framework and generates CSV output.\n",
        "\n",
        "### Objectives\n",
        "- Extract company names, founding dates and founders from text\n",
        "- Generate CSV output with structured data\n",
        "- Use LCEL Runnable Interface for parsing\n",
        "- Implement Tools and Tool calling for automation\n",
        "\n",
        "### Expected Output Format\n",
        "- Company Name (string)\n",
        "- Founding Date (YYYY-MM-DD format)\n",
        "- Founders (comma-separated string)"
      ]
    },
    {
      "cell_type": "markdown",
      "metadata": {
        "id": "-59R8aHATg32"
      },
      "source": [
        "## Environment Setup and Dependencies\n",
        "\n",
        "Step 1: Generate Gemini API key from Google AI Studio.<br>\n",
        "Step 2: Create a secret key `GEMINI_API_KEY` and assign the value from Google AI Studio.<br>\n",
        "\n",
        "Now, Follow the instructions and install required packages to set up the environment"
      ]
    },
    {
      "cell_type": "code",
      "execution_count": null,
      "metadata": {
        "id": "FV6mVb8OPynh"
      },
      "outputs": [],
      "source": [
        "!pip install langchain-google-genai langchain langgraph pandas pydantic -qU"
      ]
    },
    {
      "cell_type": "code",
      "execution_count": null,
      "metadata": {
        "id": "evE1Wf7gV3xz"
      },
      "outputs": [],
      "source": [
        "# Import necessary libraries\n",
        "import os\n",
        "import pandas as pd\n",
        "import requests\n",
        "import json\n",
        "import re\n",
        "\n",
        "\n",
        "from datetime import datetime\n",
        "from typing import List, Optional\n",
        "from pydantic import BaseModel, Field\n",
        "from google.colab import userdata\n",
        "\n",
        "from langchain_google_genai import ChatGoogleGenerativeAI\n",
        "from langchain_core.prompts import ChatPromptTemplate\n",
        "from langchain_core.tools import tool\n",
        "from langchain_core.messages import HumanMessage, ToolMessage, SystemMessage, AIMessage\n",
        "from langgraph.prebuilt import create_react_agent"
      ]
    },
    {
      "cell_type": "code",
      "execution_count": null,
      "metadata": {
        "id": "T2cCCyx0V8J5"
      },
      "outputs": [],
      "source": [
        "# Set your Google API key\n",
        "os.environ[\"GOOGLE_API_KEY\"] = userdata.get(\"GEMINI_API_KEY\")"
      ]
    },
    {
      "cell_type": "code",
      "execution_count": null,
      "metadata": {
        "colab": {
          "base_uri": "https://localhost:8080/"
        },
        "collapsed": true,
        "id": "5UiKFx_4XeZv",
        "outputId": "0233712e-95b1-4c4d-d7bb-d4a79d9b909f"
      },
      "outputs": [
        {
          "name": "stdout",
          "output_type": "stream",
          "text": [
            "Absolutely! I can help you extract company information. To do that effectively, I need you to tell me **what kind of company information you're looking for and where you expect to find it.**\n",
            "\n",
            "Please be as specific as possible. Here are some common types of company information people look for, and the contexts in which they might be found:\n",
            "\n",
            "**What Kind of Company Information Are You Looking For?**\n",
            "\n",
            "*   **Basic Identification:**\n",
            "    *   Company Name (official, legal name)\n",
            "    *   Company Website URL\n",
            "    *   Company Type (e.g., public, private, non-profit, government)\n",
            "    *   Industry/Sector\n",
            "    *   Headquarters Location (city, state/province, country)\n",
            "*   **Financial Information:**\n",
            "    *   Stock Ticker Symbol (if publicly traded)\n",
            "    *   Revenue (annual, quarterly)\n",
            "    *   Profit/Net Income\n",
            "    *   Market Capitalization\n",
            "    *   Number of Employees\n",
            "    *   Funding Rounds (for startups/private companies)\n",
            "    *   Key Financial Ratios\n",
            "*   **Operational Information:**\n",
            "    *   Products/Services Offered\n",
            "    *   Key Executives (CEO, CFO, etc.)\n",
            "    *   Company History/Founding Date\n",
            "    *   Mission Statement/Vision\n",
            "    *   Business Model\n",
            "    *   Subsidiaries/Parent Companies\n",
            "*   **Contact Information:**\n",
            "    *   General Contact Email/Phone\n",
            "    *   Investor Relations Contact\n",
            "    *   Media Relations Contact\n",
            "*   **Legal/Regulatory Information:**\n",
            "    *   Company Registration Number\n",
            "    *   Registered Agent\n",
            "    *   SEC Filings (for US public companies)\n",
            "    *   Patents/Trademarks\n",
            "\n",
            "**Where Will You Find This Information?**\n",
            "\n",
            "The source of the information is crucial for me to help you. Are you looking to extract information from:\n",
            "\n",
            "*   **A specific website?** (e.g., a company's \"About Us\" page, a news article, a directory)\n",
            "*   **A document?** (e.g., a PDF report, a press release, a business plan)\n",
            "*   **A database?** (e.g., a business directory, a financial data provider)\n",
            "*   **A text you provide directly?**\n",
            "\n",
            "**Once you tell me what you need and where you'll find it, I can assist you in several ways:**\n",
            "\n",
            "*   **If you provide text:** I can read through it and pull out the specific pieces of information you request.\n",
            "*   **If you provide a URL:** I can try to access the webpage and extract the information, although my ability to browse live websites can be limited.\n",
            "*   **If you're looking for general information:** I can point you to common sources where you can find it.\n",
            "*   **If you have a specific task in mind:** I can guide you on how to approach it.\n",
            "\n",
            "**So, please tell me:**\n",
            "\n",
            "1.  **What specific company information are you trying to extract?**\n",
            "2.  **Where will this information be located?** (Please provide a URL, describe the document, or paste the text if it's short enough.)\n",
            "\n",
            "I'm ready to help!\n"
          ]
        }
      ],
      "source": [
        "# Initialize the Gemini 2.5 Flash Lite model\n",
        "llm = ChatGoogleGenerativeAI(\n",
        "    model=\"gemini-2.5-flash-lite\",\n",
        "    temperature=0.7,\n",
        "    max_tokens=None\n",
        ")\n",
        "\n",
        "# Simple invocation\n",
        "response = llm.invoke(\"Can you help me extract company info?\")\n",
        "print(response.content)"
      ]
    },
    {
      "cell_type": "markdown",
      "metadata": {
        "id": "svw7-ufU2ews"
      },
      "source": [
        "## Structured Output Setup\n",
        "\n",
        "This section defines the structured output schema for extracting company information using Pydantic models. The `CompanyInfo` and `CompanyExtractionResult` classes ensure that the extracted data (`company_name`, `founding_date` and `founders`) is consistently formatted for further processing and CSV generation."
      ]
    },
    {
      "cell_type": "code",
      "execution_count": null,
      "metadata": {
        "colab": {
          "base_uri": "https://localhost:8080/"
        },
        "id": "7IdunhTdXn1Q",
        "outputId": "dc6e1945-46d5-4f23-9c63-27d37446f499"
      },
      "outputs": [
        {
          "name": "stdout",
          "output_type": "stream",
          "text": [
            "Company Info Schema:\n",
            "{\n",
            "  \"description\": \"Information about a company.\",\n",
            "  \"properties\": {\n",
            "    \"company_name\": {\n",
            "      \"description\": \"The full official company name\",\n",
            "      \"title\": \"Company Name\",\n",
            "      \"type\": \"string\"\n",
            "    },\n",
            "    \"founding_date\": {\n",
            "      \"description\": \"The founding date\",\n",
            "      \"title\": \"Founding Date\",\n",
            "      \"type\": \"string\"\n",
            "    },\n",
            "    \"founders\": {\n",
            "      \"description\": \"List of founders' name\",\n",
            "      \"items\": {\n",
            "        \"type\": \"string\"\n",
            "      },\n",
            "      \"title\": \"Founders\",\n",
            "      \"type\": \"array\"\n",
            "    }\n",
            "  },\n",
            "  \"required\": [\n",
            "    \"company_name\",\n",
            "    \"founding_date\",\n",
            "    \"founders\"\n",
            "  ],\n",
            "  \"title\": \"CompanyInfo\",\n",
            "  \"type\": \"object\"\n",
            "}\n"
          ]
        }
      ],
      "source": [
        "# Define the desired structure for company info\n",
        "class CompanyInfo(BaseModel):\n",
        "    \"\"\"Information about a company.\"\"\"\n",
        "    company_name: str = Field(..., description=\"The full official company name\")\n",
        "    founding_date: str = Field(..., description=\"The founding date\")\n",
        "    founders: List[str] = Field(..., description=\"List of founders' name\")\n",
        "\n",
        "class CompanyExtractionResult(BaseModel):\n",
        "    \"\"\"Result containing multiple companies extracted from text.\"\"\"\n",
        "    companies: List[CompanyInfo] = Field(..., description=\"List of extracted companies\")\n",
        "\n",
        "# Display the schema\n",
        "print(\"Company Info Schema:\")\n",
        "print(json.dumps(CompanyInfo.model_json_schema(), indent=2))"
      ]
    },
    {
      "cell_type": "code",
      "execution_count": null,
      "metadata": {
        "colab": {
          "base_uri": "https://localhost:8080/"
        },
        "collapsed": true,
        "id": "1HVZCqkVYVTw",
        "outputId": "398f3fee-d5a3-4b10-d30d-64a1ab05a44c"
      },
      "outputs": [
        {
          "name": "stdout",
          "output_type": "stream",
          "text": [
            "Structured LLM test:\n",
            "Company: Nvidia Corporation\n",
            "Founded: April 5, 1993\n",
            "Founders: ['Jensen Huang', 'Chris Malachowsky', 'Curtis Priem']\n"
          ]
        }
      ],
      "source": [
        "# Initialize the model with structured output\n",
        "structured_llm = llm.with_structured_output(CompanyExtractionResult)\n",
        "\n",
        "# Test with a sample text\n",
        "sample_text = \"Nvidia Corporation was founded on April 5, 1993, by Jensen Huang, Chris Malachowsky, and Curtis Priem.\"\n",
        "\n",
        "result = structured_llm.invoke(f\"\"\"\n",
        "Extract company information from this text:\n",
        "{sample_text}\n",
        "\n",
        "For each company, provide:\n",
        "- Company name (full official name)\n",
        "- Founding date (as mentioned)\n",
        "- Founders (all people mentioned)\n",
        "\"\"\")\n",
        "\n",
        "print(\"Structured LLM test:\")\n",
        "for company in result.companies:\n",
        "    print(f\"Company: {company.company_name}\")\n",
        "    print(f\"Founded: {company.founding_date}\")\n",
        "    print(f\"Founders: {company.founders}\")"
      ]
    },
    {
      "cell_type": "markdown",
      "metadata": {
        "id": "uYYM7akD6uDL"
      },
      "source": [
        "## Date Formatting\n",
        "\n",
        "The `format_date` function defined in this section standardizes various date formats into the **YYYY-MM-DD** format. This is necessary for consistent CSV output. The following code tests the function with a variety of date inputs, including year-only, year-month and full date formats, as well as textual descriptions, to verify its robustness and accuracy."
      ]
    },
    {
      "cell_type": "code",
      "execution_count": null,
      "metadata": {
        "collapsed": true,
        "id": "K2I1pK2QY3ip"
      },
      "outputs": [],
      "source": [
        "# Utility function for date formatting\n",
        "def format_date(date_string: str) -> str:\n",
        "    \"\"\"Format various date formats to YYYY-MM-DD\"\"\"\n",
        "    date_string = date_string.strip()\n",
        "\n",
        "    # Handle different date formats\n",
        "    if len(date_string) == 4: # When only Year is present\n",
        "        return f\"{date_string}-01-01\"\n",
        "    elif len(date_string) == 7: # When only Year and Month are present\n",
        "        return f\"{date_string}-01\"\n",
        "    elif len(date_string) == 10: # When all Year, Month and Day are present\n",
        "        return date_string\n",
        "    else:\n",
        "        try:\n",
        "            # Extract year using regex\n",
        "            year_match = re.search(r'\\b(18|19|20)\\d{2}\\b', date_string)\n",
        "            if year_match:\n",
        "                year = year_match.group()\n",
        "\n",
        "                # Month mapping\n",
        "                month_map = {\n",
        "                    'january': '01', 'february': '02', 'march': '03', 'april': '04',\n",
        "                    'may': '05', 'june': '06', 'july': '07', 'august': '08',\n",
        "                    'september': '09', 'october': '10', 'november': '11', 'december': '12'\n",
        "                }\n",
        "\n",
        "                month = '01'\n",
        "                for month_name, month_num in month_map.items():\n",
        "                    if month_name.lower() in date_string.lower():\n",
        "                        month = month_num\n",
        "                        break\n",
        "\n",
        "                # Extract day\n",
        "                day_match = re.search(r'\\b([1-3]?\\d)\\b', date_string)\n",
        "                day = day_match.group().zfill(2) if day_match and int(day_match.group()) <= 31 else '01'\n",
        "\n",
        "                return f\"{year}-{month}-{day}\"\n",
        "        except:\n",
        "            pass\n",
        "\n",
        "    return f\"{date_string}-01-01\""
      ]
    },
    {
      "cell_type": "code",
      "execution_count": null,
      "metadata": {
        "colab": {
          "base_uri": "https://localhost:8080/"
        },
        "id": "VT3-xIY3y7kf",
        "outputId": "fd64fd0e-2c84-4386-d556-ce94a4e3eca3"
      },
      "outputs": [
        {
          "name": "stdout",
          "output_type": "stream",
          "text": [
            "Date formatting tests:\n",
            "1998 -> 1998-01-01\n",
            "2003-11 -> 2003-11-01\n",
            "1997-07-12 -> 1997-07-12\n",
            "November 11, 1883 -> 1883-11-11\n",
            "April 13, 2001 -> 2001-04-13\n"
          ]
        }
      ],
      "source": [
        "# Test the date formatting function\n",
        "test_dates = [\"1998\", \"2003-11\", \"1997-07-12\", \"November 11, 1883\", \"April 13, 2001\"]\n",
        "print(\"Date formatting tests:\")\n",
        "for date in test_dates:\n",
        "    print(f\"{date} -> {format_date(date)}\")"
      ]
    },
    {
      "cell_type": "markdown",
      "metadata": {
        "id": "b_R8RlU78Rtt"
      },
      "source": [
        "## Info Extraction Tools\n",
        "\n",
        "The project leverages LangChain’s tool-calling capabilities to automate the extraction and storage of company information. Two key tools are defined: `extract_companies`, which processes input text to extract structured company data and `save_to_csv`, which formats and saves the extracted data into a CSV file. These tools form the backbone of the agent’s workflow."
      ]
    },
    {
      "cell_type": "code",
      "execution_count": null,
      "metadata": {
        "id": "lUA9o7q8ZIaJ"
      },
      "outputs": [],
      "source": [
        "# Define tools\n",
        "\n",
        "@tool(description=\"Extract company info from provided text\")\n",
        "def extract_companies(text: str) -> str:\n",
        "    \"\"\"Extract company info from provided text\"\"\"\n",
        "    try:\n",
        "        # Use structured LLM to extract data\n",
        "        extraction_prompt = f\"\"\"\n",
        "        Extract company information from this text. For each company, provide:\n",
        "        1. Company name (full official name including Corporation, Inc., LLC, etc.)\n",
        "        2. Founding date (exact format from text)\n",
        "        3. Founders (all people mentioned as founders)\n",
        "\n",
        "        Text: {text}\n",
        "        \"\"\"\n",
        "\n",
        "        result = structured_llm.invoke(extraction_prompt)\n",
        "\n",
        "        # Convert to JSON for agent communication\n",
        "        return json.dumps([company.dict() for company in result.companies])\n",
        "    except Exception as e:\n",
        "        return f\"Error extracting companies: {str(e)}\""
      ]
    },
    {
      "cell_type": "code",
      "execution_count": null,
      "metadata": {
        "id": "6M5nw0BMZYuf"
      },
      "outputs": [],
      "source": [
        "@tool(description=\"Save extracted company data to CSV file\")\n",
        "def save_to_csv(companies_data: str) -> str:\n",
        "    \"\"\"Save extracted company data to CSV file\"\"\"\n",
        "    try:\n",
        "        # Parse JSON data\n",
        "        data = json.loads(companies_data)\n",
        "\n",
        "        # Create DataFrame\n",
        "        df_data = []\n",
        "        for company in data:\n",
        "            df_data.append({\n",
        "                'company_name': company['company_name'],\n",
        "                'founding_date': format_date(company['founding_date']),\n",
        "                'founders': ', '.join(company['founders'])\n",
        "            })\n",
        "\n",
        "        df = pd.DataFrame(df_data)\n",
        "\n",
        "        # Save to CSV\n",
        "        filename = 'CSVision_company_info.csv'\n",
        "        df.to_csv(filename, index=False)\n",
        "\n",
        "        return f\"Successfully saved {len(df)} companies to {filename}\"\n",
        "    except Exception as e:\n",
        "        return f\"Error saving to CSV: {str(e)}\""
      ]
    },
    {
      "cell_type": "code",
      "execution_count": null,
      "metadata": {
        "colab": {
          "base_uri": "https://localhost:8080/"
        },
        "id": "kleYCk1KZh8s",
        "outputId": "ada585fb-272e-40d8-f5a1-9dc4bd2b31cd"
      },
      "outputs": [
        {
          "name": "stdout",
          "output_type": "stream",
          "text": [
            "Available tools: ['extract_companies', 'save_to_csv']\n"
          ]
        }
      ],
      "source": [
        "# Check the list of tools available to our agent\n",
        "tools = [extract_companies, save_to_csv]\n",
        "\n",
        "print(f\"Available tools: {[tool.name for tool in tools]}\")"
      ]
    },
    {
      "cell_type": "markdown",
      "metadata": {
        "id": "GszIDcrA-7la"
      },
      "source": [
        "## Agent Initialization\n",
        "\n",
        "Initialize the AI agent using LangGraph. This agent will coordinate tool usage and language understanding to extract company info efficiently."
      ]
    },
    {
      "cell_type": "code",
      "execution_count": null,
      "metadata": {
        "colab": {
          "base_uri": "https://localhost:8080/"
        },
        "id": "i5GKUEqtZnYI",
        "outputId": "82a7cd36-fa1c-49a4-eee2-e4c10d487cea"
      },
      "outputs": [
        {
          "name": "stdout",
          "output_type": "stream",
          "text": [
            "AI Agent created successfully!\n"
          ]
        }
      ],
      "source": [
        "# Create agent using LangGraph\n",
        "agent_executor = create_react_agent(llm, tools)\n",
        "\n",
        "print(\"AI Agent created successfully!\")"
      ]
    },
    {
      "cell_type": "markdown",
      "metadata": {
        "id": "0nZ93V5i_1dv"
      },
      "source": [
        "## Input Essay for Info Extraction\n",
        "\n",
        "The essay below is a sample text providing a detailed narrative about the origins of major corporations, including their founding dates and founders. This text serves as the primary input for the **CSVision**, which will extract structured company info and save it to a CSV file.\n",
        "\n",
        "*You can replace this sample essay with your own text to extract company details from any paragraph-based input.*"
      ]
    },
    {
      "cell_type": "code",
      "execution_count": null,
      "metadata": {
        "colab": {
          "base_uri": "https://localhost:8080/"
        },
        "id": "_ymBxF9-Zu8_",
        "outputId": "6c787fbf-6ce9-4671-9c60-41cc9f2b1a83"
      },
      "outputs": [
        {
          "name": "stdout",
          "output_type": "stream",
          "text": [
            "Company essay verified\n"
          ]
        }
      ],
      "source": [
        "# Sample essay\n",
        "essay_text = \"\"\"\n",
        "In the ever-evolving landscape of global commerce, the origin stories of major corporations are not merely tales of personal ambition and entrepreneurial spirit but also reflections of broader socio-economic trends and technological revolutions that have reshaped industries. These narratives, which often begin with modest ambitions, unfold into chronicles of innovation and strategic foresight that define industries and set benchmarks for future enterprises.\n",
        "\n",
        "Early Foundations: Pioneers of Industry\n",
        "One of the earliest examples is The Coca-Cola Company, founded on May 8, 1886, by Dr. John Stith Pemberton in Atlanta, Georgia. Initially sold at Jacob's Pharmacy as a medicinal beverage, Coca-Cola would become one of the most recognized brands worldwide, revolutionizing the beverage industry.\n",
        "Similarly, Sony Corporation was established on May 7, 1946, by Masaru Ibuka and Akio Morita in Tokyo, Japan. Starting with repairing and building electrical equipment in post-war Japan, Sony would grow to pioneer electronics, entertainment, and technology.\n",
        "As the mid-20th century progressed, McDonald's Corporation emerged as a game-changer in the fast-food industry. Founded on April 15, 1955, in Des Plaines, Illinois, by Ray Kroc, McDonald's built upon the original concept of Richard and Maurice McDonald to standardize and scale fast-food service globally. Around the same period, Intel Corporation was established on July 18, 1968, by Robert Noyce and Gordon Moore in Mountain View, California\n",
        "\n",
        "driving advancements in semiconductors and microprocessors that became the backbone of modern computing.\n",
        "\n",
        "The Rise of Technology Titans\n",
        "Samsung Electronics Co., Ltd., founded on January 13, 1969, by Lee Byung-chul in Su-dong, South Korea, initially focused on producing electrical appliances like televisions and refrigerators. As Samsung expanded into semiconductors, telecommunications, and digital media, it\n",
        "grew into a global technology leader. Similarly, Microsoft Corporation was founded on April 4, 1975, by Bill Gates and Paul Allen in Albuquerque, New Mexico, with the vision of placing a computer on every desk and in every home.\n",
        "In Cupertino, California, Apple Inc. was born on April 1, 1976, founded by Steve Jobs, Steve Wozniak, and Ronald Wayne. Their mission to make personal computing accessible and elegant revolutionized technology and design. A few years later, Oracle Corporation was established on June 16, 1977, by Larry Ellison, Bob Miner, and Ed Oates in Santa Clara, California.\n",
        "Specializing in relational databases, Oracle would become a cornerstone of enterprise software and cloud computing.\n",
        "NVIDIA Corporation, founded on April 5, 1993, by Jensen Huang, Chris Malachowsky, and Curtis Priem in Santa Clara, California, began with a focus on graphics processing units (GPUs) for gaming. Today, NVIDIA is a leader in artificial intelligence, deep learning, and autonomous systems, showcasing the power of continuous innovation.\n",
        "\n",
        "E-Commerce and the Internet Revolution\n",
        "The 1990s witnessed a dramatic shift toward e-commerce and internet technologies. Amazon.com Inc. was founded on July 5, 1994, by Jeff Bezos in a garage in Bellevue, Washington, with the vision of becoming the world's largest online bookstore. This vision rapidly expanded to encompass\n",
        "e-commerce, cloud computing, and digital streaming. Similarly, Google LLC was founded on September 4, 1998, by Larry Page and Sergey Brin, PhD students at Stanford University, in a garage in Menlo Park, California.\n",
        "Google's mission to \"organize the world's information\" transformed how we search, learn, and connect.\n",
        "In Asia, Alibaba Group Holding Limited was founded on June 28, 1999, by Jack Ma and 18 colleagues in Hangzhou, China. Originally an e-commerce platform connecting manufacturers with buyers, Alibaba expanded into cloud\n",
        "\n",
        "computing, digital entertainment, and financial technology, becoming a global powerhouse.\n",
        "In Europe, SAP SE was founded on April 1, 1972, by Dietmar Hopp,\n",
        "Hans-Werner Hector, Hasso Plattner, Klaus Tschira, and Claus Wellenreuther in Weinheim, Germany. Specializing in enterprise resource planning (ERP) software, SAP revolutionized how businesses manage operations and data.\n",
        "\n",
        "Social Media and Digital Platforms\n",
        "The 2000s brought a wave of social media and digital platforms that reshaped communication and commerce. LinkedIn Corporation was founded on December 28, 2002, by Reid Hoffman and a team from PayPal and Socialnet.com in Mountain View, California, focusing on professional networking.\n",
        "Facebook, Inc. (now Meta Platforms, Inc.) was launched on February 4, 2004, by Mark Zuckerberg and his college roommates in Cambridge, Massachusetts, evolving into a global social networking behemoth.\n",
        "Another transformative platform, Twitter, Inc., was founded on March 21, 2006, by Jack Dorsey, Biz Stone, and Evan Williams in San Francisco, California. Starting as a microblogging service, Twitter became a critical tool for communication and social commentary. Spotify AB, founded on April 23, 2006, by Daniel Ek and Martin Lorentzon in Stockholm, Sweden, leveraged streaming technology to democratize music consumption, fundamentally altering the music industry.\n",
        "In the realm of video-sharing, YouTube LLC was founded on February 14, 2005, by Steve Chen, Chad Hurley, and Jawed Karim in San Mateo, California. YouTube became the leading platform for user-generated video content, influencing global culture and media consumption.\n",
        "\n",
        "Innovators in Modern Technology\n",
        "Tesla, Inc., founded on July 1, 2003, by a group including Elon Musk, Martin Eberhard, Marc Tarpenning, JB Straubel, and Ian Wright, in San Carlos, California, championed the transition to sustainable energy with its electric vehicles and energy solutions. Airbnb, Inc., founded in August 2008 by Brian Chesky, Joe Gebbia, and Nathan Blecharczyk in San Francisco, California, disrupted traditional hospitality with its peer-to-peer lodging platform.\n",
        "In the realm of fintech, PayPal Holdings, Inc. was established in December 1998 by Peter Thiel, Max Levchin, Luke Nosek, and Ken Howery in Palo Alto,\n",
        "\n",
        "California. Originally a cryptography company, PayPal became a global leader in online payments. Stripe, Inc., founded in 2010 by Patrick and John Collison in Palo Alto, California, followed suit, simplifying online payments and enabling digital commerce.\n",
        "Square, Inc. (now Block, Inc.), founded on February 20, 2009, by Jack Dorsey and Jim McKelvey in San Francisco, California, revolutionized mobile payment systems with its simple and accessible card readers.\n",
        "\n",
        "Recent Disruptors\n",
        "Zoom Video Communications, Inc. was founded on April 21, 2011, by Eric Yuan in San Jose, California. Initially designed for video conferencing, Zoom became essential during the COVID-19 pandemic, transforming remote work and communication. Slack Technologies, LLC, founded in 2009 by Stewart Butterfield, Eric Costello, Cal Henderson, and Serguei Mourachov in Vancouver, Canada, redefined workplace communication with its innovative messaging platform.\n",
        "Rivian Automotive, Inc., founded on June 23, 2009, by RJ Scaringe in Plymouth, Michigan, entered the electric vehicle market with a focus on adventure and sustainability. SpaceX, established on March 14, 2002, by Elon Musk in Hawthorne, California, revolutionized aerospace with reusable rockets and ambitious plans for Mars exploration.\n",
        "TikTok, developed by ByteDance and launched in September 2016 by Zhang Yiming in Beijing, China, revolutionized short-form video content, becoming a cultural phenomenon worldwide.\n",
        "\n",
        "Conclusion\n",
        "These corporations, with their diverse beginnings and visionary founders, exemplify the interplay of innovation, timing, and strategic foresight that shapes industries and transforms markets. From repairing electronics in post-war Japan to building global e-commerce empires and redefining space exploration, their stories are milestones in the narrative of global economic transformation. Each reflects not only the aspirations of their founders but also the technological advancements and socio-economic trends of their time, serving as inspirations for future innovators.\n",
        "\"\"\"\n",
        "\n",
        "print(\"Company essay verified\")"
      ]
    },
    {
      "cell_type": "code",
      "execution_count": null,
      "metadata": {
        "colab": {
          "base_uri": "https://localhost:8080/"
        },
        "id": "Z8PMQMDbaB_J",
        "outputId": "67ea5383-6e8e-4c12-cc9b-262882713f3d"
      },
      "outputs": [
        {
          "name": "stdout",
          "output_type": "stream",
          "text": [
            "Running AI Agent to extract company info...\n",
            "\n"
          ]
        },
        {
          "name": "stderr",
          "output_type": "stream",
          "text": [
            "/tmp/ipython-input-1706893342.py:20: PydanticDeprecatedSince20: The `dict` method is deprecated; use `model_dump` instead. Deprecated in Pydantic V2.0 to be removed in V3.0. See Pydantic V2 Migration Guide at https://errors.pydantic.dev/2.11/migration/\n",
            "  return json.dumps([company.dict() for company in result.companies])\n",
            "WARNING:langchain_google_genai.chat_models:Retrying langchain_google_genai.chat_models._chat_with_retry.<locals>._chat_with_retry in 2.0 seconds as it raised InternalServerError: 500 An internal error has occurred. Please retry or report in https://developers.generativeai.google/guide/troubleshooting.\n",
            "WARNING:langchain_google_genai.chat_models:Retrying langchain_google_genai.chat_models._chat_with_retry.<locals>._chat_with_retry in 4.0 seconds as it raised InternalServerError: 500 An internal error has occurred. Please retry or report in https://developers.generativeai.google/guide/troubleshooting.\n",
            "WARNING:langchain_google_genai.chat_models:Retrying langchain_google_genai.chat_models._chat_with_retry.<locals>._chat_with_retry in 8.0 seconds as it raised InternalServerError: 500 An internal error has occurred. Please retry or report in https://developers.generativeai.google/guide/troubleshooting.\n"
          ]
        },
        {
          "name": "stdout",
          "output_type": "stream",
          "text": [
            "Agent execution completed!\n",
            "\n",
            "Agent response:\n",
            "I have successfully extracted the company information and saved it to a CSV file named 'vision_company_info.csv'.\n"
          ]
        }
      ],
      "source": [
        "# Execute the agent\n",
        "print(\"Running AI Agent to extract company info...\\n\")\n",
        "\n",
        "response = agent_executor.invoke({\n",
        "    \"messages\": [\n",
        "        HumanMessage(content=f\"\"\"\n",
        "        Hi! I need you to extract company information from the following essay and save it to a CSV file.\n",
        "\n",
        "        For each company, please extract:\n",
        "        1. Company name (full official name)\n",
        "        2. Founding date\n",
        "        3. Founders (all people mentioned)\n",
        "\n",
        "        After extraction, save the data to a CSV file.\n",
        "\n",
        "        Essay text:\n",
        "        {essay_text}\n",
        "        \"\"\")\n",
        "    ]\n",
        "})\n",
        "\n",
        "print(\"Agent execution completed!\")\n",
        "print(\"\\nAgent response:\")\n",
        "print(response[\"messages\"][-1].content)"
      ]
    },
    {
      "cell_type": "markdown",
      "metadata": {
        "id": "w8r_anGOCyy-"
      },
      "source": [
        "## CSV Output Verification\n",
        "\n",
        "The following code verifies the output by checking the existence of the file, its size and its contents. The output is displayed in a formatted table that matches the expected format (S.N, Company Name, Founded in, Founded by), ensuring the extracted data meets the assignment's requirements."
      ]
    },
    {
      "cell_type": "code",
      "execution_count": null,
      "metadata": {
        "colab": {
          "base_uri": "https://localhost:8080/"
        },
        "collapsed": true,
        "id": "Z6jx8U1xaUPd",
        "outputId": "7e33caf8-3f34-4172-b5ba-0a791e02d9ab"
      },
      "outputs": [
        {
          "name": "stdout",
          "output_type": "stream",
          "text": [
            "CSV file 'CSVision_company_info.csv' created successfully!\n",
            "Total companies extracted: 28\n",
            "File size: 1726 bytes\n",
            "\n",
            "Final Output:\n",
            "==================================================\n",
            "S.N,Company Name,Founded in,Founded by\n",
            "1,The Coca-Cola Company,1886-05-08,\"Dr. John Stith Pemberton\"\n",
            "2,Sony Corporation,1946-05-07,\"Masaru Ibuka, Akio Morita\"\n",
            "3,McDonald's Corporation,1955-04-15,\"Ray Kroc\"\n",
            "4,Intel Corporation,1968-07-18,\"Robert Noyce, Gordon Moore\"\n",
            "5,Samsung Electronics Co., Ltd.,1969-01-13,\"Lee Byung-chul\"\n",
            "6,Microsoft Corporation,1975-04-04,\"Bill Gates, Paul Allen\"\n",
            "7,Apple Inc.,1976-04-01,\"Steve Jobs, Steve Wozniak, Ronald Wayne\"\n",
            "8,Oracle Corporation,1977-06-16,\"Larry Ellison, Bob Miner, Ed Oates\"\n",
            "9,NVIDIA Corporation,1993-04-05,\"Jensen Huang, Chris Malachowsky, Curtis Priem\"\n",
            "10,Amazon.com Inc.,1994-07-05,\"Jeff Bezos\"\n",
            "11,Google LLC,1998-09-04,\"Larry Page, Sergey Brin\"\n",
            "12,Alibaba Group Holding Limited,1999-06-28,\"Jack Ma\"\n",
            "13,SAP SE,1972-04-01,\"Dietmar Hopp, Hans-Werner Hector, Hasso Plattner, Klaus Tschira, Claus Wellenreuther\"\n",
            "14,LinkedIn Corporation,2002-12-28,\"Reid Hoffman\"\n",
            "15,Facebook, Inc.,2004-02-04,\"Mark Zuckerberg\"\n",
            "16,Twitter, Inc.,2006-03-21,\"Jack Dorsey, Biz Stone, Evan Williams\"\n",
            "17,Spotify AB,2006-04-23,\"Daniel Ek, Martin Lorentzon\"\n",
            "18,YouTube LLC,2005-02-14,\"Steve Chen, Chad Hurley, Jawed Karim\"\n",
            "19,Tesla, Inc.,2003-07-01,\"Elon Musk, Martin Eberhard, Marc Tarpenning, JB Straubel, Ian Wright\"\n",
            "20,Airbnb, Inc.,2008-08-01,\"Brian Chesky, Joe Gebbia, Nathan Blecharczyk\"\n",
            "21,PayPal Holdings, Inc.,1998-12-01,\"Peter Thiel, Max Levchin, Luke Nosek, Ken Howery\"\n",
            "22,Stripe, Inc.,2010-01-01,\"Patrick Collison, John Collison\"\n",
            "23,Square, Inc.,2009-02-20,\"Jack Dorsey, Jim McKelvey\"\n",
            "24,Zoom Video Communications, Inc.,2011-04-21,\"Eric Yuan\"\n",
            "25,Slack Technologies, LLC,2009-01-01,\"Stewart Butterfield, Eric Costello, Cal Henderson, Serguei Mourachov\"\n",
            "26,Rivian Automotive, Inc.,2009-06-23,\"RJ Scaringe\"\n",
            "27,SpaceX,2002-03-14,\"Elon Musk\"\n",
            "28,TikTok,2016-09-01,\"Zhang Yiming\"\n"
          ]
        }
      ],
      "source": [
        "# Verify and display the CSV output\n",
        "filename = 'CSVision_company_info.csv'\n",
        "\n",
        "if os.path.exists(filename):\n",
        "    df = pd.read_csv(filename)\n",
        "\n",
        "    print(f\"CSV file '{filename}' created successfully!\")\n",
        "    print(f\"Total companies extracted: {len(df)}\")\n",
        "    print(f\"File size: {os.path.getsize(filename)} bytes\")\n",
        "\n",
        "    # Unformatted CSV\n",
        "    # print(\"\\nCSV Content:\")\n",
        "    # print(df.to_string(index=False))\n",
        "\n",
        "    # Display in expected format from assignment\n",
        "    print(\"\\nFinal Output:\")\n",
        "    print(\"=\" * 50)\n",
        "    print(\"S.N,Company Name,Founded in,Founded by\")\n",
        "    for i, row in df.iterrows():\n",
        "        print(f\"{i+1},{row['company_name']},{row['founding_date']},\\\"{row['founders']}\\\"\")\n",
        "\n",
        "else:\n",
        "    print(\"CSV file not found. Please check the agent execution above.\")"
      ]
    },
    {
      "cell_type": "markdown",
      "metadata": {
        "id": "qVyWczBqDPzP"
      },
      "source": [
        "## Streaming Analysis of Company Impact\n",
        "\n",
        "This section uses the Gemini model’s streaming capabilities to provide a real-time analysis of the essay, focusing on the types of companies mentioned and their significance in business history. The streaming response highlights the impact of these companies on their respective industries, complementing the structured CSV output by offering qualitative insights into their historical and economic importance."
      ]
    },
    {
      "cell_type": "code",
      "execution_count": null,
      "metadata": {
        "colab": {
          "base_uri": "https://localhost:8080/"
        },
        "id": "jDP9iRKkfT7L",
        "outputId": "9db69e85-7604-40cd-e825-1a17faad47ae"
      },
      "outputs": [
        {
          "name": "stdout",
          "output_type": "stream",
          "text": [
            "Streaming response for company extraction analysis:\n",
            "--------------------------------------------------\n",
            "Here's an analysis of the provided essay excerpt, focusing on the types of companies mentioned and their significance in business history:\n",
            "\n",
            "**Types of Companies Mentioned:**\n",
            "\n",
            "The essay excerpt explicitly mentions **The Coca-Cola Company**.\n",
            "\n",
            "**Significance in Business History:**\n",
            "\n",
            "*   **The Coca-Cola Company:**\n",
            "    *   **Industry Revolutionized:** The beverage industry.\n",
            "    *   **Significance:**\n",
            "        *   **Pioneer of a Global Brand:** Coca-Cola's story exemplifies the creation of a truly global, instantly recognizable brand. Its success wasn't just about selling a drink; it was about building a powerful identity and a consistent experience across diverse cultures and markets.\n",
            "        *   **Marketing and Advertising Innovation:** While not detailed in this short excerpt, Coca-Cola is historically renowned for its pioneering work in advertising and marketing. They mastered the art of creating emotional connections with consumers, using innovative campaigns that shaped how companies communicate with their audience.\n",
            "        *   **Distribution and Bottling Strategies:** The company's success is also tied to its innovative approach to distribution and bottling, making its product accessible to vast populations. This revolutionized how consumer goods were brought to market.\n",
            "        *   **Symbol of American Culture and Globalization:** Over time, Coca-Cola has become more than just a beverage; it's often seen as a symbol of American culture and the broader phenomenon of globalization, signifying the reach and influence of Western brands worldwide.\n",
            "        *   **Resilience and Adaptability:** The essay notes its origin as a \"medicinal beverage,\" highlighting how Coca-Cola adapted and transformed its product and marketing to become a dominant consumer brand, demonstrating the importance of strategic foresight and evolution.\n",
            "\n",
            "**Broader Significance as Reflected in the Essay's Introduction:**\n",
            "\n",
            "The essay's introductory paragraph sets the stage for understanding the significance of companies like Coca-Cola by emphasizing:\n",
            "\n",
            "*   **Reflection of Socio-economic Trends:** The success of major corporations is not isolated but intertwined with broader societal shifts, economic conditions, and consumer behaviors. Coca-Cola's rise likely benefited from changing lifestyles, increased disposable income, and a growing appetite for convenient, enjoyable products.\n",
            "*   **Technological Revolutions:** While not explicitly linked to Coca-Cola in this excerpt, the essay suggests that technological advancements play a crucial role. For Coca-Cola, this could include advancements in bottling technology, refrigeration, and eventually, marketing technologies.\n",
            "*   **Innovation and Strategic Foresight:** The essay highlights that these companies are not just lucky but are characterized by \"innovation and strategic foresight.\" This implies that their founders and leaders made deliberate decisions, invested in new ideas, and planned for the long term, which were essential for their enduring success.\n",
            "*   **Setting Benchmarks:** The success of companies like Coca-Cola establishes \"benchmarks for future enterprises.\" Their business models, marketing strategies, and brand-building techniques become case studies and aspirational goals for new businesses entering the market.\n",
            "\n",
            "**In summary, the excerpt introduces The Coca-Cola Company as a prime example of a pioneering enterprise that revolutionized the beverage industry. Its significance lies in its ability to build an enduring global brand, its innovative marketing and distribution strategies, and its evolution from a niche product to a cultural icon, all of which serve as important lessons and benchmarks in business history.**\n",
            "\n",
            "Streaming analysis completed!\n"
          ]
        }
      ],
      "source": [
        "# Streaming response\n",
        "print(\"Streaming response for company extraction analysis:\")\n",
        "print(\"-\" * 50)\n",
        "\n",
        "# Use streaming to get real-time analysis\n",
        "for chunk in llm.stream(f\"\"\"\n",
        "Analyze the following essay and explain what types of companies are mentioned and their significance in business history:\n",
        "\n",
        "{essay_text[:800]}...\n",
        "\n",
        "Provide insights about these companies' impact on their respective industries.\n",
        "\"\"\"):\n",
        "    print(chunk.content, end=\"\", flush=True)\n",
        "\n",
        "print(\"\\n\\nStreaming analysis completed!\")"
      ]
    }
  ],
  "metadata": {
    "colab": {
      "provenance": []
    },
    "kernelspec": {
      "display_name": "Python 3",
      "name": "python3"
    },
    "language_info": {
      "name": "python"
    }
  },
  "nbformat": 4,
  "nbformat_minor": 0
}
